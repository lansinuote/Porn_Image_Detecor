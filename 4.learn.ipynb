{
 "cells": [
  {
   "cell_type": "code",
   "execution_count": 20,
   "id": "8886e197",
   "metadata": {},
   "outputs": [],
   "source": [
    "import torch\n",
    "import torchvision\n",
    "import PIL\n",
    "import os\n",
    "import numpy as np\n",
    "from matplotlib import pyplot as plt\n",
    "import random"
   ]
  },
  {
   "cell_type": "code",
   "execution_count": 21,
   "id": "63381696",
   "metadata": {},
   "outputs": [
    {
     "data": {
      "text/plain": [
       "(2268, 79)"
      ]
     },
     "execution_count": 21,
     "metadata": {},
     "output_type": "execute_result"
    }
   ],
   "source": [
    "#加载所有数据,并切分为训练集和测试集\n",
    "files_train = []\n",
    "files_test = []\n",
    "\n",
    "for file in os.listdir('pic'):\n",
    "    if random.random() < 0.95:\n",
    "        files_train.append(file)\n",
    "        continue\n",
    "    if 'copy' in file or 'flip' in file:\n",
    "        continue\n",
    "    files_test.append(file)\n",
    "\n",
    "random.shuffle(files_train)\n",
    "random.shuffle(files_test)\n",
    "\n",
    "len(files_train), len(files_test)"
   ]
  },
  {
   "cell_type": "code",
   "execution_count": 22,
   "id": "c7dd67dd",
   "metadata": {},
   "outputs": [
    {
     "name": "stdout",
     "output_type": "stream",
     "text": [
      "total: 2268\n",
      "ls: {0: 1094, 1: 677, 2: 497}\n",
      "ts: {0: 896, 1: 531, 2: 841}\n",
      "cross: {'11': 254, '00': 745, '21': 79, '12': 340, '10': 83, '02': 151, '22': 350, '01': 198, '20': 68}\n",
      "total: 79\n",
      "ls: {0: 61, 1: 8, 2: 10}\n",
      "ts: {0: 44, 1: 11, 2: 24}\n",
      "cross: {'00': 44, '12': 4, '22': 10, '02': 10, '01': 7, '11': 4}\n"
     ]
    }
   ],
   "source": [
    "#打印数据集统计信息\n",
    "def statistics_info(files):\n",
    "    ls = {0: 0, 1: 0, 2: 0}\n",
    "    ts = {0: 0, 1: 0, 2: 0}\n",
    "\n",
    "    cross = {}\n",
    "\n",
    "    for i in range(len(files)):\n",
    "        level = int(files[i][0])\n",
    "        type_ = int(files[i][2])\n",
    "\n",
    "        ls[level] += 1\n",
    "        ts[type_] += 1\n",
    "\n",
    "        if '%d%d' % (level, type_) not in cross:\n",
    "            cross['%d%d' % (level, type_)] = 0\n",
    "\n",
    "        cross['%d%d' % (level, type_)] += 1\n",
    "\n",
    "    print('total:', len(files))\n",
    "    print('ls:', ls)\n",
    "    print('ts:', ts)\n",
    "    print('cross:', cross)\n",
    "\n",
    "\n",
    "statistics_info(files_train)\n",
    "statistics_info(files_test)"
   ]
  },
  {
   "cell_type": "code",
   "execution_count": 23,
   "id": "e1682445",
   "metadata": {},
   "outputs": [
    {
     "data": {
      "text/plain": [
       "(tensor([[[2.2318, 2.2318, 2.2318,  ..., 2.2318, 2.2318, 2.2318],\n",
       "          [2.2318, 2.2318, 2.2318,  ..., 2.2318, 2.2318, 2.2318],\n",
       "          [2.2318, 2.2318, 2.2318,  ..., 2.2318, 2.2318, 2.2318],\n",
       "          ...,\n",
       "          [2.2489, 2.2489, 2.2489,  ..., 2.2489, 2.2489, 2.2489],\n",
       "          [2.2489, 2.2489, 2.2489,  ..., 2.2489, 2.2489, 2.2489],\n",
       "          [2.2489, 2.2489, 2.2489,  ..., 2.2489, 2.2489, 2.2489]]]),\n",
       " torch.Size([3, 169, 300]))"
      ]
     },
     "execution_count": 23,
     "metadata": {},
     "output_type": "execute_result"
    }
   ],
   "source": [
    "#数据预处理函数\n",
    "preprocess = torchvision.transforms.Compose([\n",
    "    lambda x: PIL.Image.open(x).convert('RGB'),\n",
    "    #裁剪尺寸\n",
    "    torchvision.transforms.Resize((169, 300)),\n",
    "    #随机训传-15到15度\n",
    "    #torchvision.transforms.RandomRotation(15),\n",
    "    #中心裁剪到64像素,去除黑边\n",
    "    #torchvision.transforms.CenterCrop(224),\n",
    "    #随机左右翻转\n",
    "    torchvision.transforms.RandomHorizontalFlip(),\n",
    "    #转tensor\n",
    "    torchvision.transforms.ToTensor(),\n",
    "    #数据标准化\n",
    "    torchvision.transforms.Normalize(mean=[0.485, 0.456, 0.406],\n",
    "                                     std=[0.229, 0.224, 0.225])\n",
    "])\n",
    "\n",
    "\n",
    "#加载文件为图片\n",
    "def load_file(file):\n",
    "    file = 'pic/' + file\n",
    "    return preprocess(file)\n",
    "\n",
    "\n",
    "x = load_file(files_train[0])\n",
    "x[:1], x.shape"
   ]
  },
  {
   "cell_type": "code",
   "execution_count": 24,
   "id": "dd1ead97",
   "metadata": {},
   "outputs": [],
   "source": [
    "#显示图片\n",
    "def show(x):\n",
    "    #还原normalize\n",
    "    mean = torch.tensor([0.485, 0.456, 0.406]).unsqueeze(1).unsqueeze(1)\n",
    "    std = torch.tensor([0.229, 0.224, 0.225]).unsqueeze(1).unsqueeze(1)\n",
    "    x = x * std + mean\n",
    "\n",
    "    #c,w,h转换为w,h,c\n",
    "    x = x.permute(1, 2, 0)\n",
    "\n",
    "    #还原到0-255\n",
    "    x *= 255\n",
    "\n",
    "    x = x.numpy().astype(np.uint8)\n",
    "    x = PIL.Image.fromarray(x, mode='RGB')\n",
    "    plt.figure(figsize=(5, 5))\n",
    "    plt.xticks([])\n",
    "    plt.yticks([])\n",
    "    plt.imshow(x)\n",
    "    plt.show()\n",
    "\n",
    "\n",
    "#show(x)"
   ]
  },
  {
   "cell_type": "code",
   "execution_count": 25,
   "id": "370c7c63",
   "metadata": {
    "scrolled": false
   },
   "outputs": [
    {
     "data": {
      "text/plain": [
       "(tensor([[[[-2.1179, -2.1179, -2.1179,  ..., -2.1179, -2.1179, -2.1179],\n",
       "           [-2.1179, -2.1179, -2.1179,  ..., -2.1179, -2.1179, -2.1179]],\n",
       " \n",
       "          [[-2.0357, -2.0357, -2.0357,  ..., -2.0357, -2.0357, -2.0357],\n",
       "           [-2.0357, -2.0357, -2.0357,  ..., -2.0357, -2.0357, -2.0357]]],\n",
       " \n",
       " \n",
       "         [[[ 1.7694,  1.7694,  1.7865,  ...,  1.8893,  1.8893,  1.8893],\n",
       "           [ 1.7694,  1.7694,  1.7865,  ...,  1.8893,  1.8893,  1.8893]],\n",
       " \n",
       "          [[ 1.9384,  1.9384,  1.9559,  ...,  2.0609,  2.0609,  2.0609],\n",
       "           [ 1.9384,  1.9384,  1.9559,  ...,  2.0609,  2.0609,  2.0609]]]]),\n",
       " torch.Size([50, 3, 169, 300]),\n",
       " tensor([0, 1, 1, 0, 0, 0, 0, 0, 1, 1, 1, 1, 1, 1, 1, 0, 0, 0, 1, 0, 0, 0, 1, 1,\n",
       "         1, 1, 0, 0, 0, 1, 1, 0, 0, 1, 1, 1, 1, 0, 0, 0, 1, 1, 0, 0, 1, 0, 0, 0,\n",
       "         0, 0]))"
      ]
     },
     "execution_count": 25,
     "metadata": {},
     "output_type": "execute_result"
    }
   ],
   "source": [
    "#定义数据集\n",
    "class Dataset(torch.utils.data.Dataset):\n",
    "    def __init__(self, files):\n",
    "        self.x = []\n",
    "        self.y = []\n",
    "\n",
    "        for file in files:\n",
    "            self.x.append(file)\n",
    "            self.y.append(int(file[0]))\n",
    "\n",
    "    def __len__(self):\n",
    "        return len(self.x)\n",
    "\n",
    "    def __getitem__(self, i):\n",
    "        x = load_file(self.x[i])\n",
    "        y = self.y[i]\n",
    "        if y == 2:\n",
    "            y = 1\n",
    "        return x, torch.tensor(y)\n",
    "\n",
    "\n",
    "dataloader_train = torch.utils.data.DataLoader(dataset=Dataset(files_train),\n",
    "                                               batch_size=50,\n",
    "                                               shuffle=True,\n",
    "                                               drop_last=True)\n",
    "\n",
    "dataloader_test = torch.utils.data.DataLoader(dataset=Dataset(files_test),\n",
    "                                              batch_size=50,\n",
    "                                              shuffle=True,\n",
    "                                              drop_last=True)\n",
    "\n",
    "for i, (x, y) in enumerate(dataloader_train):\n",
    "    break\n",
    "\n",
    "x[:2, :2, :2], x.shape, y"
   ]
  },
  {
   "cell_type": "code",
   "execution_count": 26,
   "id": "db308ed6",
   "metadata": {},
   "outputs": [
    {
     "data": {
      "text/plain": [
       "torch.Size([50, 512, 1, 1])"
      ]
     },
     "execution_count": 26,
     "metadata": {},
     "output_type": "execute_result"
    }
   ],
   "source": [
    "#使用torchvision提供的训练好的resnet18层模型'\n",
    "resnet18 = torchvision.models.resnet18(pretrained=True)\n",
    "\n",
    "#剪掉最后一层\n",
    "resnet18 = list(resnet18.children())[:-1]\n",
    "\n",
    "#不需要计算梯度\n",
    "# for i in resnet18:\n",
    "#     for j in i.parameters():\n",
    "#         j.requires_grad = False\n",
    "\n",
    "#重新组装成model\n",
    "resnet18 = torch.nn.Sequential(*resnet18)\n",
    "\n",
    "#不需要计算梯度\n",
    "resnet18.eval()\n",
    "\n",
    "#试算\n",
    "out = resnet18(x)\n",
    "out.shape"
   ]
  },
  {
   "cell_type": "code",
   "execution_count": 27,
   "id": "7d2efb73",
   "metadata": {},
   "outputs": [
    {
     "data": {
      "text/plain": [
       "torch.Size([50, 2])"
      ]
     },
     "execution_count": 27,
     "metadata": {},
     "output_type": "execute_result"
    }
   ],
   "source": [
    "#迁移学习模型,就是个简单的线性模型\n",
    "class Model(torch.nn.Module):\n",
    "    def __init__(self):\n",
    "        super().__init__()\n",
    "\n",
    "        self.fc = torch.nn.Sequential(\n",
    "            torch.nn.Linear(in_features=512, out_features=512),\n",
    "            torch.nn.ReLU(), torch.nn.Dropout(p=0.2),\n",
    "            torch.nn.Linear(in_features=512, out_features=2))\n",
    "\n",
    "    def forward(self, x):\n",
    "        return self.fc(x)\n",
    "\n",
    "\n",
    "model = Model()\n",
    "model(out.squeeze()).shape"
   ]
  },
  {
   "cell_type": "code",
   "execution_count": 28,
   "id": "0485b4cc",
   "metadata": {
    "scrolled": false
   },
   "outputs": [],
   "source": [
    "#训练模型\n",
    "def train(train_resnet18=False):\n",
    "    optimizer_model = torch.optim.Adam(model.parameters(), lr=1e-4)\n",
    "    optimizer_resnet18 = torch.optim.Adam(resnet18.parameters(), lr=1e-6)\n",
    "    criteon = torch.nn.CrossEntropyLoss()\n",
    "\n",
    "    #训练\n",
    "    model.train()\n",
    "\n",
    "    resnet18.eval()\n",
    "    if train_resnet18:\n",
    "        resnet18.train()\n",
    "\n",
    "    for i, (x, y) in enumerate(dataloader_train):\n",
    "\n",
    "        optimizer_model.zero_grad()\n",
    "        optimizer_resnet18.zero_grad()\n",
    "\n",
    "        #模型运算\n",
    "        out = resnet18(x).squeeze()\n",
    "        out = model(out)\n",
    "\n",
    "        #梯度下降\n",
    "        loss = criteon(out, y)\n",
    "        loss.backward()\n",
    "        optimizer_model.step()\n",
    "\n",
    "        if train_resnet18:\n",
    "            optimizer_resnet18.step()\n",
    "\n",
    "        if i % 10 == 0:\n",
    "            out = out.argmax(dim=-1)\n",
    "            accurecy = (out == y).sum() / float(len(y))\n",
    "            print(i, loss.item(), accurecy.item())\n",
    "\n",
    "\n",
    "# train()\n",
    "\n",
    "# #保存模型\n",
    "# torch.save(model.state_dict(), 'model.mdl')"
   ]
  },
  {
   "cell_type": "code",
   "execution_count": 29,
   "id": "26799a1a",
   "metadata": {
    "scrolled": false
   },
   "outputs": [
    {
     "name": "stdout",
     "output_type": "stream",
     "text": [
      "i= 0 total= 50 correct= 31 sure= 33 not_sure= 17\n"
     ]
    },
    {
     "data": {
      "text/plain": [
       "(0.9393939393939394, 0.7142857142857143, 1.0, 33, 17, 50)"
      ]
     },
     "execution_count": 29,
     "metadata": {},
     "output_type": "execute_result"
    }
   ],
   "source": [
    "#计算在测试集的正确率\n",
    "def test(print_error=False, print_not_sure=False):\n",
    "    model.eval()\n",
    "    resnet18.eval()\n",
    "\n",
    "    #统计正确率\n",
    "    correct = 0\n",
    "    total = 0\n",
    "\n",
    "    #统计查准率,查全率\n",
    "    pred_1_1 = 0\n",
    "    pred_1 = 0\n",
    "    real_1 = 0\n",
    "\n",
    "    #统计确定和不确定的数量\n",
    "    sure = 0\n",
    "    not_sure = 0\n",
    "\n",
    "    #置信度阈值\n",
    "    threshold = 0.75\n",
    "\n",
    "    for i, (x, y) in enumerate(dataloader_test):\n",
    "        with torch.no_grad():\n",
    "            #统计总数\n",
    "            total += len(y)\n",
    "\n",
    "            #模型运算\n",
    "            #[50, 3, 169, 300] -> [50, 512, 1, 1]\n",
    "            out = resnet18(x)\n",
    "\n",
    "            #[50, 512, 1, 1] -> [50, 512]\n",
    "            out = out.squeeze()\n",
    "\n",
    "            #[50, 512] -> [50, 2]\n",
    "            out = model(out)\n",
    "\n",
    "            #正负两类概率恒正,且相加等于1,便于后面求置信度\n",
    "            #[50, 2] -> [50, 2]\n",
    "            out = torch.nn.functional.softmax(out, dim=-1)\n",
    "\n",
    "            #求置信度\n",
    "            #[50, 2] -> [50]\n",
    "            confidence = out.max(dim=-1).values\n",
    "\n",
    "            #置信度小于阈值的为不确定的分类结果,交由人工处理\n",
    "            not_sure += (confidence < threshold).sum().item()\n",
    "\n",
    "            if print_not_sure:\n",
    "                for xi, yi, outi in zip(x[confidence < threshold],\n",
    "                                        y[confidence < threshold],\n",
    "                                        out[confidence < threshold]):\n",
    "                    show(xi)\n",
    "                    print('yi=', yi.item(), 'outi=',\n",
    "                          outi.argmax().item(), 'confidence=', outi)\n",
    "\n",
    "            #取出置信度大于阈值的结果\n",
    "            out = out[confidence > threshold]\n",
    "            y = y[confidence > threshold]\n",
    "            confidence = confidence[confidence > threshold]\n",
    "\n",
    "            #取出分类结果\n",
    "            #[50, 2] -> [50]\n",
    "            out = out.argmax(dim=-1)\n",
    "\n",
    "            #统计正确率\n",
    "            correct += (out == y).sum().item()\n",
    "            sure += len(y)\n",
    "\n",
    "            #统计查准率,查全率\n",
    "            pred_1_1 += (out[y == 1] == 1).sum().item()\n",
    "            pred_1 += (out == 1).sum().item()\n",
    "            real_1 += (y == 1).sum().item()\n",
    "\n",
    "            if print_error:\n",
    "                for xi, yi, outi, confidencei in zip(x, y, out, confidence):\n",
    "                    if yi != outi:\n",
    "                        show(xi)\n",
    "                        print('yi=', yi.item(), 'outi=', outi.item(),\n",
    "                              'confidencei=', confidencei.item())\n",
    "\n",
    "        if i % 10 == 0:\n",
    "            print(\n",
    "                'i=',\n",
    "                i,\n",
    "                'total=',\n",
    "                total,\n",
    "                'correct=',\n",
    "                correct,\n",
    "                'sure=',\n",
    "                sure,\n",
    "                'not_sure=',\n",
    "                not_sure,\n",
    "            )\n",
    "\n",
    "    accurecy = correct / sure\n",
    "\n",
    "    #查准率描述:当模型判定为违规时,真的违规的概率\n",
    "    #查准率=正确判定违规数/判定违规数\n",
    "    precision = pred_1_1 / pred_1\n",
    "\n",
    "    #查全率描述:当违规时,被模型发现的概率\n",
    "    #查全率=正确判定违规数/真实违规数\n",
    "    recall = pred_1_1 / real_1\n",
    "\n",
    "    return accurecy, precision, recall, sure, not_sure, total\n",
    "\n",
    "\n",
    "#加载模型\n",
    "model.load_state_dict(torch.load('model.mdl'))\n",
    "\n",
    "test(print_error=False, print_not_sure=False)"
   ]
  },
  {
   "cell_type": "code",
   "execution_count": null,
   "id": "2feaf7f3",
   "metadata": {
    "scrolled": false
   },
   "outputs": [],
   "source": [
    "#加载模型\n",
    "#model.load_state_dict(torch.load('model.mdl'))\n",
    "\n",
    "#train(train_resnet18=True)\n",
    "\n",
    "#保存模型\n",
    "# torch.save(model.state_dict(), 'model_fine.mdl')\n",
    "# torch.save(resnet18.state_dict(), 'resnet18_fine.mdl')"
   ]
  },
  {
   "cell_type": "code",
   "execution_count": 30,
   "id": "7d50664b",
   "metadata": {},
   "outputs": [
    {
     "name": "stdout",
     "output_type": "stream",
     "text": [
      "i= 0 total= 50 correct= 33 sure= 35 not_sure= 15\n"
     ]
    },
    {
     "data": {
      "text/plain": [
       "(0.9428571428571428, 0.8, 1.0, 35, 15, 50)"
      ]
     },
     "execution_count": 30,
     "metadata": {},
     "output_type": "execute_result"
    }
   ],
   "source": [
    "#加载模型\n",
    "model.load_state_dict(torch.load('model_fine.mdl'))\n",
    "resnet18.load_state_dict(torch.load('resnet18_fine.mdl'))\n",
    "\n",
    "test(print_error=False, print_not_sure=False)"
   ]
  }
 ],
 "metadata": {
  "kernelspec": {
   "display_name": "Python 3",
   "language": "python",
   "name": "python3"
  },
  "language_info": {
   "codemirror_mode": {
    "name": "ipython",
    "version": 3
   },
   "file_extension": ".py",
   "mimetype": "text/x-python",
   "name": "python",
   "nbconvert_exporter": "python",
   "pygments_lexer": "ipython3",
   "version": "3.6.13"
  }
 },
 "nbformat": 4,
 "nbformat_minor": 5
}
